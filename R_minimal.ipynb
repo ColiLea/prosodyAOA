{
 "cells": [
  {
   "cell_type": "code",
   "execution_count": 115,
   "metadata": {
    "scrolled": true
   },
   "outputs": [],
   "source": [
    "library(glmnet)\n",
    "library(dplyr)\n",
    "library(ggplot2)\n",
    "\n"
   ]
  },
  {
   "cell_type": "code",
   "execution_count": 129,
   "metadata": {
    "scrolled": true
   },
   "outputs": [
    {
     "name": "stdout",
     "output_type": "stream",
     "text": [
      "[1] \"MSE\"              \"10.7270610487919\"\n",
      "[1] \"R^2\"               \"-0.25005924511706\"\n"
     ]
    },
    {
     "data": {
      "text/plain": [
       "3 x 1 sparse Matrix of class \"dgCMatrix\"\n",
       "                    s0\n",
       "(Intercept) 14.5862534\n",
       "freq        -0.3673674\n",
       "w1          -0.4056400"
      ]
     },
     "metadata": {},
     "output_type": "display_data"
    }
   ],
   "source": [
    "features = read.csv(\"brent_srilm_features.csv\")\n",
    "features <- features[complete.cases(features), ]\n",
    "\n",
    "\n",
    "x <- features %>% select(freq, w1) %>% data.matrix()\n",
    "x <- log(x)\n",
    "y <- features$y\n",
    "\n",
    "xtrain <- head(x, 50)\n",
    "ytrain <- head(y, 50)  # c(1,2 , 0, 1, -20, 34)\n",
    "xtest  <- tail(x, 10)  # length(y)-255)\n",
    "ytest  <- tail(y, 10)  # length(y)-255)\n",
    "\n",
    "reg = glmnet(xtrain, ytrain, alpha = 0, lambda = 2 / nrow(xtrain))\n",
    "\n",
    "y_predicted <- predict(reg, s = 2 / nrow(xtrain), newx = xtest)\n",
    "\n",
    "\n",
    "# Mean squared error\n",
    "mse <- mean((ytest - y_predicted)^2)\n",
    "\n",
    "# Sum of Squares Total // Error // R^2\n",
    "sst <- sum((ytest - mean(ytest))^2)\n",
    "sse <- sum((y_predicted - ytest)^2)\n",
    "rsq <- 1 - sse / sst\n",
    "\n",
    "print(c(\"MSE\", mse))\n",
    "print(c(\"R^2\", rsq))\n",
    "\n",
    "coef(reg)\n"
   ]
  },
  {
   "cell_type": "code",
   "execution_count": 180,
   "metadata": {
    "scrolled": false
   },
   "outputs": [
    {
     "name": "stdout",
     "output_type": "stream",
     "text": [
      "        freq     p0w1w2\n",
      "1 -0.8262010 -0.8743993\n",
      "2  1.7269509  0.4166236\n",
      "3  0.3780822  0.9608100\n",
      "4 -0.9395244  0.3395647\n",
      "5  0.6284766  0.3718308\n",
      "          freq      p0w1w2\n",
      "278  0.1420808 -0.03496766\n",
      "279 -0.8804314 -0.19690539\n",
      "280  0.1299809  0.52886619\n",
      "281 -1.1023116 -0.20054171\n",
      "282 -0.6860314  0.71804869\n"
     ]
    },
    {
     "data": {
      "text/html": [
       "<dl class=dl-horizontal>\n",
       "\t<dt>(Intercept)</dt>\n",
       "\t\t<dd>-0.0554140844763096</dd>\n",
       "\t<dt>xtrainfreq</dt>\n",
       "\t\t<dd>-0.371515337306722</dd>\n",
       "\t<dt>xtrainp0w1w2</dt>\n",
       "\t\t<dd>0.0295086037527285</dd>\n",
       "</dl>\n"
      ],
      "text/latex": [
       "\\begin{description*}\n",
       "\\item[(Intercept)] -0.0554140844763096\n",
       "\\item[xtrainfreq] -0.371515337306722\n",
       "\\item[xtrainp0w1w2] 0.0295086037527285\n",
       "\\end{description*}\n"
      ],
      "text/markdown": [
       "(Intercept)\n",
       ":   -0.0554140844763096xtrainfreq\n",
       ":   -0.371515337306722xtrainp0w1w2\n",
       ":   0.0295086037527285\n",
       "\n"
      ],
      "text/plain": [
       " (Intercept)   xtrainfreq xtrainp0w1w2 \n",
       " -0.05541408  -0.37151534   0.02950860 "
      ]
     },
     "metadata": {},
     "output_type": "display_data"
    },
    {
     "name": "stderr",
     "output_type": "stream",
     "text": [
      "Warning message:\n",
      "“'newdata' had 84 rows but variables found have 255 rows”"
     ]
    },
    {
     "name": "stdout",
     "output_type": "stream",
     "text": [
      "[1] 255\n"
     ]
    },
    {
     "name": "stderr",
     "output_type": "stream",
     "text": [
      "Warning message in ytest - y_predicted:\n",
      "“longer object length is not a multiple of shorter object length”"
     ]
    },
    {
     "ename": "ERROR",
     "evalue": "Error in mean((ytest - y_predicted)^2): dims [product 84] do not match the length of object [255]\n",
     "output_type": "error",
     "traceback": [
      "Error in mean((ytest - y_predicted)^2): dims [product 84] do not match the length of object [255]\nTraceback:\n",
      "1. mean((ytest - y_predicted)^2)"
     ]
    }
   ],
   "source": [
    "features = read.csv(\"brent_srilm_features.csv\")\n",
    "features <- features[complete.cases(features), ]\n",
    "\n",
    "\n",
    "x <- features %>% select(freq,p0w1w2) %>% data.matrix()\n",
    "x <- scale(log(x))\n",
    "y <- scale(features$y)\n",
    "\n",
    "xtrain <- head(x, 255)\n",
    "ytrain <- head(y, 255)  # c(1,2 , 0, 1, -20, 34)\n",
    "xtest  <- tail(x, length(y)-255)#10)  # \n",
    "ytest  <- tail(y, length(y)-255)#10)  # \n",
    "\n",
    "print(head(xtrain,5))\n",
    "print(head(xtest,5))\n",
    "\n",
    "linreg = lm(ytrain ~ xtrain)\n",
    "\n",
    "coef(linreg)\n",
    "\n",
    "if(length(x)==length(y)){\n",
    "    plot(x,y)\n",
    "    abline(linreg)\n",
    "}\n",
    "\n",
    "y_predicted <- predict(linreg, data.frame(xtest))\n",
    "print(length(y_predicted))\n",
    "\n",
    "# Mean squared error\n",
    "mse <- mean((ytest - y_predicted)^2)\n",
    "\n",
    "# Sum of Squares Total // Error // R^2\n",
    "sst <- sum((ytest - mean(ytest))^2)\n",
    "sse <- sum((y_predicted - ytest)^2)\n",
    "rsq <- 1 - sse / sst\n",
    "\n",
    "print(c(\"MSE\", mse))\n",
    "print(c(\"R^2\", rsq))\n",
    "\n",
    "\n"
   ]
  },
  {
   "cell_type": "code",
   "execution_count": 95,
   "metadata": {
    "scrolled": true
   },
   "outputs": [
    {
     "data": {
      "text/plain": [
       "4 x 1 sparse Matrix of class \"dgCMatrix\"\n",
       "                     s0\n",
       "(Intercept) -0.03862100\n",
       "V1          -0.03997036\n",
       "V2          -0.07276511\n",
       "V3           0.42727955"
      ]
     },
     "metadata": {},
     "output_type": "display_data"
    }
   ],
   "source": [
    "X = matrix(c(1, 1, 2, 3, 4, 2, 6, 5, 2, 5, 5, 3), byrow = TRUE, ncol = 3)\n",
    "y = c(1, 0, 0, 1)\n",
    "reg = glmnet(X, y, alpha = 0, lambda = 2 / nrow(X))\n",
    "coef(reg)"
   ]
  },
  {
   "cell_type": "code",
   "execution_count": null,
   "metadata": {
    "collapsed": true,
    "scrolled": true
   },
   "outputs": [],
   "source": []
  },
  {
   "cell_type": "code",
   "execution_count": null,
   "metadata": {
    "collapsed": true,
    "scrolled": true
   },
   "outputs": [],
   "source": []
  }
 ],
 "metadata": {
  "kernelspec": {
   "display_name": "R",
   "language": "R",
   "name": "ir"
  },
  "language_info": {
   "codemirror_mode": "r",
   "file_extension": ".r",
   "mimetype": "text/x-r-source",
   "name": "R",
   "pygments_lexer": "r",
   "version": "3.4.1"
  }
 },
 "nbformat": 4,
 "nbformat_minor": 2
}
